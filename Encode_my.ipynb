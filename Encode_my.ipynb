{
 "cells": [
  {
   "cell_type": "code",
   "execution_count": 1,
   "id": "b7aea343",
   "metadata": {
    "ExecuteTime": {
     "end_time": "2023-07-09T06:27:58.798586Z",
     "start_time": "2023-07-09T06:27:57.214210Z"
    },
    "scrolled": true
   },
   "outputs": [
    {
     "data": {
      "text/plain": [
       "<torch._C.Generator at 0x7f5b64299230>"
      ]
     },
     "execution_count": 1,
     "metadata": {},
     "output_type": "execute_result"
    }
   ],
   "source": [
    "import torch\n",
    "import torch.nn as nn\n",
    "import torch.optim as optim\n",
    "import torch.nn.functional as F\n",
    "from torch.optim import Optimizer\n",
    "import torch.backends.cudnn as cudnn\n",
    "import tqdm\n",
    "\n",
    "import torchvision\n",
    "import torchvision.transforms as transforms\n",
    "from torch.utils.data import TensorDataset, DataLoader,Subset\n",
    "import torchvision.models as models\n",
    "import torch.nn.functional as F\n",
    "from models import *\n",
    "from d2l import torch as d2l\n",
    "import os\n",
    "import copy\n",
    "import random\n",
    "import matplotlib.pyplot as plt\n",
    "import numpy as np\n",
    "import cv2 as cv\n",
    "from util import *\n",
    "import time\n",
    "from my_utils import *\n",
    "import matplotlib.pyplot as plt\n",
    "from my_model import *\n",
    "import lpips\n",
    "from PIL import Image\n",
    "\n",
    "random_seed = 0\n",
    "np.random.seed(random_seed)\n",
    "random.seed(random_seed)\n",
    "torch.manual_seed(random_seed)\n"
   ]
  },
  {
   "cell_type": "code",
   "execution_count": 2,
   "id": "301e24aa",
   "metadata": {
    "ExecuteTime": {
     "end_time": "2023-07-09T06:28:01.556497Z",
     "start_time": "2023-07-09T06:28:01.539601Z"
    },
    "scrolled": true
   },
   "outputs": [],
   "source": [
    "#The argumention use for all training set\n",
    "\n",
    "transform_normal = transforms.Compose([\n",
    "    transforms.Resize(32),\n",
    "    transforms.RandomCrop(32, padding=4),  \n",
    "    transforms.RandomHorizontalFlip(),\n",
    "    transforms.ToTensor(),\n",
    "    transforms.Normalize((0.5, 0.5, 0.5), (0.5, 0.5, 0.5)),\n",
    "    \n",
    "])\n",
    "\n",
    "transform_before = transforms.Compose([\n",
    "    transforms.Resize(32),\n",
    "    transforms.ToTensor(),\n",
    "    \n",
    "])\n",
    "\n",
    "transform_after = transforms.Compose([\n",
    "    transforms.RandomCrop(32, padding=4),  \n",
    "    transforms.RandomHorizontalFlip(),\n",
    "    transforms.Normalize((0.5, 0.5, 0.5), (0.5, 0.5, 0.5)),\n",
    "    \n",
    "])\n",
    "\n",
    "\n",
    "\n",
    "\n",
    "\n",
    "dataset_path = './data/'"
   ]
  },
  {
   "cell_type": "code",
   "execution_count": 3,
   "id": "fe3a54d9",
   "metadata": {
    "scrolled": true
   },
   "outputs": [],
   "source": [
    "#加载模型\n",
    "device = torch.device(\"cuda:0\" if True else \"cpu\")\n",
    "save_path = './checkpoint_my/decode_pretrain_binary' + str(200) +'.pth'\n",
    "decode_model = ResNet18_201()\n",
    "decode_model = nn.DataParallel(decode_model)\n",
    "decode_model.load_state_dict(torch.load(save_path))\n",
    "decode_model = decode_model.to(device)"
   ]
  },
  {
   "cell_type": "code",
   "execution_count": 4,
   "id": "f6119a77",
   "metadata": {
    "ExecuteTime": {
     "end_time": "2023-07-09T06:33:36.273843Z",
     "start_time": "2023-07-09T06:33:35.862799Z"
    },
    "scrolled": true
   },
   "outputs": [],
   "source": [
    "train_batch_size = 128\n",
    "outter_trainset = My_PoisonFolder(1, root=dataset_path + 'tiny-imagenet-200/train/', \\\n",
    "                                  transform=transform_before)\n",
    "\n",
    "frog_trainset = My_PoisonFolder(0, root=dataset_path + 'tiny-imagenet-200/frog/', \\\n",
    "                                  transform=transform_before)\n",
    "\n",
    "total_set = concoct_dataset(outter_trainset, frog_trainset) \n",
    "\n",
    "train_batch_size = 128\n",
    "outter_loader = torch.utils.data.DataLoader(total_set, batch_size=train_batch_size, shuffle=True, num_workers=16)\n",
    "frog_loader = torch.utils.data.DataLoader(frog_trainset, batch_size=train_batch_size, shuffle=True, num_workers=16)"
   ]
  },
  {
   "cell_type": "code",
   "execution_count": 5,
   "id": "eda942f0",
   "metadata": {},
   "outputs": [
    {
     "data": {
      "text/plain": [
       "tensor(0.1020)"
      ]
     },
     "execution_count": 5,
     "metadata": {},
     "output_type": "execute_result"
    }
   ],
   "source": [
    "frog_trainset[0][0].min()"
   ]
  },
  {
   "cell_type": "code",
   "execution_count": 6,
   "id": "3e7dad24",
   "metadata": {},
   "outputs": [],
   "source": [
    "def evaluate_test_acc(net, loader):\n",
    "    since = time.time()\n",
    "    net.eval()  # 设置为评估模式\n",
    "    net = net.to(device)\n",
    "    metric = d2l.Accumulator(2)\n",
    "    for img, label in loader:\n",
    "        img = transform_after(img)\n",
    "        label = label.to(device)\n",
    "        y_hat = net(img)\n",
    "\n",
    "        with torch.no_grad():\n",
    "            metric.add(d2l.accuracy(y_hat, label), label.numel())\n",
    "    time_elapsed = time.time() - since\n",
    "    print(f'time is {time_elapsed}s')\n",
    "    return metric[0] / metric[1]"
   ]
  },
  {
   "cell_type": "code",
   "execution_count": 7,
   "id": "50b1d446",
   "metadata": {
    "scrolled": true
   },
   "outputs": [
    {
     "name": "stdout",
     "output_type": "stream",
     "text": [
      "time is 42.28008818626404s\n"
     ]
    },
    {
     "data": {
      "text/plain": [
       "1.0"
      ]
     },
     "execution_count": 7,
     "metadata": {},
     "output_type": "execute_result"
    }
   ],
   "source": [
    "acc = evaluate_test_acc(decode_model, outter_loader)\n",
    "acc"
   ]
  },
  {
   "cell_type": "code",
   "execution_count": 8,
   "id": "0e288efe",
   "metadata": {},
   "outputs": [
    {
     "name": "stdout",
     "output_type": "stream",
     "text": [
      "time is 2.394658088684082s\n"
     ]
    },
    {
     "data": {
      "text/plain": [
       "1.0"
      ]
     },
     "execution_count": 8,
     "metadata": {},
     "output_type": "execute_result"
    }
   ],
   "source": [
    "acc = evaluate_test_acc(decode_model, frog_loader)\n",
    "acc"
   ]
  },
  {
   "cell_type": "code",
   "execution_count": 9,
   "id": "85e570ee",
   "metadata": {},
   "outputs": [],
   "source": [
    "l_inf_r = 8/255"
   ]
  },
  {
   "cell_type": "code",
   "execution_count": 10,
   "id": "9fc9324f",
   "metadata": {
    "ExecuteTime": {
     "end_time": "2023-07-09T06:28:02.353814Z",
     "start_time": "2023-07-09T06:28:02.324111Z"
    },
    "scrolled": true
   },
   "outputs": [
    {
     "name": "stdout",
     "output_type": "stream",
     "text": [
      "Setting up [LPIPS] perceptual loss: trunk [vgg], v[0.1], spatial [off]\n"
     ]
    },
    {
     "name": "stderr",
     "output_type": "stream",
     "text": [
      "/home/mbhrobot/anaconda3/envs/python_3.8/lib/python3.8/site-packages/torchvision/models/_utils.py:208: UserWarning: The parameter 'pretrained' is deprecated since 0.13 and will be removed in 0.15, please use 'weights' instead.\n",
      "  warnings.warn(\n",
      "/home/mbhrobot/anaconda3/envs/python_3.8/lib/python3.8/site-packages/torchvision/models/_utils.py:223: UserWarning: Arguments other than a weight enum or `None` for 'weights' are deprecated since 0.13 and will be removed in 0.15. The current behavior is equivalent to passing `weights=VGG16_Weights.IMAGENET1K_V1`. You can also use `weights=VGG16_Weights.DEFAULT` to get the most up-to-date weights.\n",
      "  warnings.warn(msg)\n"
     ]
    },
    {
     "name": "stdout",
     "output_type": "stream",
     "text": [
      "Loading model from: /home/mbhrobot/anaconda3/envs/python_3.8/lib/python3.8/site-packages/lpips/weights/v0.1/vgg.pth\n",
      "Let's use 2 GPUs!\n"
     ]
    }
   ],
   "source": [
    "encode = StegaStampEncoder()\n",
    "\n",
    "criterion = nn.CrossEntropyLoss()\n",
    "optimizer = optim.Adam(encode.parameters(), lr=0.0001)\n",
    "\n",
    "lpips_alex = lpips.LPIPS(net=\"vgg\")\n",
    "\n",
    "if torch.cuda.device_count() > 1:\n",
    "    print(\"Let's use\", torch.cuda.device_count(), \"GPUs!\")\n",
    "    # dim = 0 [30, xxx] -> [10, ...], [10, ...], [10, ...] on 3 GPUs\n",
    "    # 将batchsize 30 分配到N个GPU上运行\n",
    "   # lpips_alex = nn.DataParallel(lpips_alex)\n",
    "    encode = nn.DataParallel(encode)\n",
    "    \n",
    "encode = encode.to(device)\n",
    "#lpips_alex = lpips_alex.to(device)\n",
    "\n",
    "scheduler_1 = torch.optim.lr_scheduler.StepLR(optimizer, step_size=300, gamma=0.1)"
   ]
  },
  {
   "cell_type": "code",
   "execution_count": null,
   "id": "588c89b9",
   "metadata": {
    "scrolled": true
   },
   "outputs": [
    {
     "name": "stderr",
     "output_type": "stream",
     "text": [
      "/tmp/ipykernel_2091438/1860290014.py:27: UserWarning: To copy construct from a tensor, it is recommended to use sourceTensor.clone().detach() or sourceTensor.clone().detach().requires_grad_(True), rather than torch.tensor(sourceTensor).\n",
      "  y = torch.tensor(y, dtype = torch.long)\n"
     ]
    },
    {
     "name": "stdout",
     "output_type": "stream",
     "text": [
      "epoch 0, ave_loss 5.540256977081299, attack_acc 0.131\n",
      "time 3.920s\n",
      "epoch 1, ave_loss 3.028071880340576, attack_acc 0.270\n",
      "time 2.769s\n",
      "epoch 2, ave_loss 2.1395106315612793, attack_acc 0.440\n",
      "time 2.995s\n",
      "epoch 3, ave_loss 2.260056257247925, attack_acc 0.532\n",
      "time 2.974s\n",
      "epoch 4, ave_loss 1.8689005374908447, attack_acc 0.608\n",
      "time 2.919s\n",
      "epoch 5, ave_loss 1.5446805953979492, attack_acc 0.643\n",
      "time 2.833s\n",
      "epoch 6, ave_loss 1.762182593345642, attack_acc 0.709\n",
      "time 2.975s\n",
      "epoch 7, ave_loss 1.201289415359497, attack_acc 0.771\n",
      "time 2.975s\n",
      "epoch 8, ave_loss 1.0343058109283447, attack_acc 0.747\n",
      "time 3.007s\n",
      "epoch 9, ave_loss 0.8183981776237488, attack_acc 0.791\n",
      "time 2.992s\n",
      "epoch 10, ave_loss 0.8791003227233887, attack_acc 0.807\n",
      "time 3.029s\n",
      "epoch 11, ave_loss 0.8625019192695618, attack_acc 0.840\n",
      "time 2.746s\n",
      "epoch 12, ave_loss 0.4485134780406952, attack_acc 0.820\n",
      "time 2.872s\n",
      "epoch 13, ave_loss 0.3675917983055115, attack_acc 0.844\n",
      "time 2.922s\n",
      "epoch 14, ave_loss 0.5858966708183289, attack_acc 0.832\n",
      "time 2.968s\n",
      "epoch 15, ave_loss 0.6446235775947571, attack_acc 0.851\n",
      "time 2.880s\n",
      "epoch 16, ave_loss 0.5044929385185242, attack_acc 0.862\n",
      "time 2.992s\n",
      "epoch 17, ave_loss 0.5893967747688293, attack_acc 0.861\n",
      "time 2.971s\n",
      "epoch 18, ave_loss 0.4537537097930908, attack_acc 0.843\n",
      "time 2.921s\n",
      "epoch 19, ave_loss 1.0387591123580933, attack_acc 0.867\n",
      "time 2.987s\n",
      "epoch 20, ave_loss 0.6376415491104126, attack_acc 0.861\n",
      "time 2.944s\n",
      "epoch 21, ave_loss 0.7207419872283936, attack_acc 0.897\n",
      "time 2.925s\n",
      "epoch 22, ave_loss 0.48528560996055603, attack_acc 0.855\n",
      "time 2.926s\n",
      "epoch 23, ave_loss 0.5649768114089966, attack_acc 0.881\n",
      "time 2.874s\n",
      "epoch 24, ave_loss 0.3312343657016754, attack_acc 0.880\n",
      "time 2.980s\n",
      "epoch 25, ave_loss 0.45720723271369934, attack_acc 0.861\n",
      "time 2.927s\n",
      "epoch 26, ave_loss 0.39001700282096863, attack_acc 0.890\n",
      "time 2.605s\n",
      "epoch 27, ave_loss 0.2615247070789337, attack_acc 0.879\n",
      "time 2.945s\n",
      "epoch 28, ave_loss 0.32457590103149414, attack_acc 0.873\n",
      "time 2.953s\n",
      "epoch 29, ave_loss 0.4354819357395172, attack_acc 0.883\n",
      "time 2.917s\n",
      "epoch 30, ave_loss 0.26401546597480774, attack_acc 0.872\n",
      "time 2.903s\n",
      "epoch 31, ave_loss 0.7338016033172607, attack_acc 0.903\n",
      "time 3.001s\n",
      "epoch 32, ave_loss 0.2486833781003952, attack_acc 0.897\n",
      "time 2.705s\n",
      "epoch 33, ave_loss 0.45725688338279724, attack_acc 0.896\n",
      "time 2.634s\n",
      "epoch 34, ave_loss 0.39146390557289124, attack_acc 0.915\n",
      "time 2.916s\n",
      "epoch 35, ave_loss 0.41309699416160583, attack_acc 0.899\n",
      "time 3.031s\n",
      "epoch 36, ave_loss 0.4111006557941437, attack_acc 0.905\n",
      "time 2.931s\n",
      "epoch 37, ave_loss 0.46163639426231384, attack_acc 0.911\n",
      "time 2.911s\n",
      "epoch 38, ave_loss 0.49247828125953674, attack_acc 0.922\n",
      "time 3.126s\n",
      "epoch 39, ave_loss 0.5741962790489197, attack_acc 0.903\n",
      "time 2.929s\n",
      "epoch 40, ave_loss 0.42399081587791443, attack_acc 0.900\n",
      "time 2.957s\n",
      "epoch 41, ave_loss 0.27981269359588623, attack_acc 0.904\n",
      "time 2.997s\n",
      "epoch 42, ave_loss 0.17786721885204315, attack_acc 0.909\n",
      "time 3.032s\n",
      "epoch 43, ave_loss 0.34128791093826294, attack_acc 0.899\n",
      "time 2.777s\n",
      "epoch 44, ave_loss 0.535849392414093, attack_acc 0.930\n",
      "time 2.701s\n",
      "epoch 45, ave_loss 0.16225452721118927, attack_acc 0.910\n",
      "time 2.637s\n",
      "epoch 46, ave_loss 0.1738111674785614, attack_acc 0.919\n",
      "time 2.616s\n",
      "epoch 47, ave_loss 0.17235076427459717, attack_acc 0.907\n",
      "time 2.899s\n",
      "epoch 48, ave_loss 0.09548888355493546, attack_acc 0.919\n",
      "time 2.946s\n",
      "epoch 49, ave_loss 0.299287348985672, attack_acc 0.919\n",
      "time 2.931s\n",
      "epoch 50, ave_loss 0.31703680753707886, attack_acc 0.936\n",
      "time 2.933s\n",
      "epoch 51, ave_loss 0.08975361287593842, attack_acc 0.917\n",
      "time 2.946s\n",
      "epoch 52, ave_loss 0.17914234101772308, attack_acc 0.908\n",
      "time 2.931s\n",
      "epoch 53, ave_loss 0.2664685845375061, attack_acc 0.902\n",
      "time 2.959s\n",
      "epoch 54, ave_loss 0.5825949907302856, attack_acc 0.914\n",
      "time 2.928s\n",
      "epoch 55, ave_loss 0.32992199063301086, attack_acc 0.907\n",
      "time 2.908s\n",
      "epoch 56, ave_loss 0.2347463071346283, attack_acc 0.919\n",
      "time 2.947s\n",
      "epoch 57, ave_loss 0.17958001792430878, attack_acc 0.928\n",
      "time 2.926s\n",
      "epoch 58, ave_loss 0.4013976454734802, attack_acc 0.917\n",
      "time 2.935s\n",
      "epoch 59, ave_loss 0.212961345911026, attack_acc 0.917\n",
      "time 2.947s\n",
      "epoch 60, ave_loss 0.37057217955589294, attack_acc 0.939\n",
      "time 2.751s\n",
      "epoch 61, ave_loss 0.23610930144786835, attack_acc 0.929\n",
      "time 2.818s\n",
      "epoch 62, ave_loss 0.26718512177467346, attack_acc 0.913\n",
      "time 2.674s\n",
      "epoch 63, ave_loss 0.20178258419036865, attack_acc 0.907\n",
      "time 2.593s\n",
      "epoch 64, ave_loss 0.3045176565647125, attack_acc 0.910\n",
      "time 2.644s\n",
      "epoch 65, ave_loss 0.25937125086784363, attack_acc 0.922\n",
      "time 2.726s\n",
      "epoch 66, ave_loss 0.18620026111602783, attack_acc 0.937\n",
      "time 2.998s\n",
      "epoch 67, ave_loss 0.20357730984687805, attack_acc 0.935\n",
      "time 2.958s\n",
      "epoch 68, ave_loss 0.24328768253326416, attack_acc 0.949\n",
      "time 2.888s\n",
      "epoch 69, ave_loss 0.13029149174690247, attack_acc 0.947\n",
      "time 2.924s\n",
      "epoch 70, ave_loss 0.25610190629959106, attack_acc 0.942\n",
      "time 2.904s\n",
      "epoch 71, ave_loss 0.09564024209976196, attack_acc 0.957\n",
      "time 2.954s\n",
      "epoch 72, ave_loss 0.2395409345626831, attack_acc 0.952\n",
      "time 2.760s\n",
      "epoch 73, ave_loss 0.10634323209524155, attack_acc 0.955\n",
      "time 2.741s\n",
      "epoch 74, ave_loss 0.0316188707947731, attack_acc 0.953\n",
      "time 2.631s\n",
      "epoch 75, ave_loss 0.08013895899057388, attack_acc 0.947\n",
      "time 2.794s\n",
      "epoch 76, ave_loss 0.0736604705452919, attack_acc 0.940\n",
      "time 2.956s\n",
      "epoch 77, ave_loss 0.2684009075164795, attack_acc 0.943\n",
      "time 2.826s\n",
      "epoch 78, ave_loss 0.3088746964931488, attack_acc 0.958\n",
      "time 3.031s\n",
      "epoch 79, ave_loss 0.012527704238891602, attack_acc 0.942\n",
      "time 3.206s\n",
      "epoch 80, ave_loss 0.08193401247262955, attack_acc 0.953\n",
      "time 2.709s\n",
      "epoch 81, ave_loss 0.05655202642083168, attack_acc 0.954\n",
      "time 2.933s\n",
      "epoch 82, ave_loss 0.08586011081933975, attack_acc 0.959\n",
      "time 2.912s\n",
      "epoch 83, ave_loss 0.02683568373322487, attack_acc 0.957\n",
      "time 2.924s\n",
      "epoch 84, ave_loss 0.15445666015148163, attack_acc 0.959\n",
      "time 2.950s\n",
      "epoch 85, ave_loss 0.24956482648849487, attack_acc 0.958\n",
      "time 3.044s\n",
      "epoch 86, ave_loss 0.25396814942359924, attack_acc 0.953\n",
      "time 2.968s\n",
      "epoch 87, ave_loss 0.24301907420158386, attack_acc 0.956\n",
      "time 2.902s\n",
      "epoch 88, ave_loss 0.20381006598472595, attack_acc 0.969\n",
      "time 2.774s\n",
      "epoch 89, ave_loss 0.09318705648183823, attack_acc 0.959\n",
      "time 2.638s\n",
      "epoch 90, ave_loss 0.08914336562156677, attack_acc 0.959\n",
      "time 2.720s\n",
      "epoch 91, ave_loss 0.2101954221725464, attack_acc 0.972\n",
      "time 2.579s\n",
      "epoch 92, ave_loss 0.03991179168224335, attack_acc 0.958\n",
      "time 2.626s\n",
      "epoch 93, ave_loss 0.240118145942688, attack_acc 0.960\n",
      "time 2.602s\n",
      "epoch 94, ave_loss 0.02923823706805706, attack_acc 0.947\n",
      "time 2.985s\n",
      "epoch 95, ave_loss 0.1646072119474411, attack_acc 0.949\n",
      "time 2.964s\n",
      "epoch 96, ave_loss 0.06705302000045776, attack_acc 0.950\n",
      "time 2.933s\n",
      "epoch 97, ave_loss 0.046371057629585266, attack_acc 0.971\n",
      "time 2.912s\n",
      "epoch 98, ave_loss 0.07255170494318008, attack_acc 0.977\n",
      "time 2.940s\n",
      "epoch 99, ave_loss 0.16267980635166168, attack_acc 0.972\n",
      "time 2.949s\n",
      "epoch 100, ave_loss 0.09440568834543228, attack_acc 0.970\n",
      "time 2.957s\n",
      "epoch 101, ave_loss 0.10347374528646469, attack_acc 0.973\n",
      "time 2.953s\n",
      "epoch 102, ave_loss 0.08798935264348984, attack_acc 0.969\n",
      "time 3.013s\n",
      "epoch 103, ave_loss 0.021187996491789818, attack_acc 0.953\n",
      "time 2.777s\n",
      "epoch 104, ave_loss 0.052052129060029984, attack_acc 0.974\n",
      "time 2.920s\n",
      "epoch 105, ave_loss 0.1642121821641922, attack_acc 0.969\n",
      "time 2.764s\n",
      "epoch 106, ave_loss 0.09730782359838486, attack_acc 0.955\n",
      "time 2.749s\n",
      "epoch 107, ave_loss 0.1487560272216797, attack_acc 0.963\n",
      "time 2.736s\n",
      "epoch 108, ave_loss 0.18648183345794678, attack_acc 0.974\n",
      "time 2.697s\n",
      "epoch 109, ave_loss 0.04392065480351448, attack_acc 0.973\n",
      "time 2.968s\n",
      "epoch 110, ave_loss 0.12218552082777023, attack_acc 0.976\n",
      "time 3.000s\n",
      "epoch 111, ave_loss 0.009743096306920052, attack_acc 0.978\n",
      "time 2.987s\n",
      "epoch 112, ave_loss 0.11697488278150558, attack_acc 0.967\n",
      "time 2.945s\n",
      "epoch 113, ave_loss 0.2992152273654938, attack_acc 0.978\n",
      "time 2.879s\n",
      "epoch 114, ave_loss 0.13885660469532013, attack_acc 0.968\n",
      "time 2.726s\n",
      "epoch 115, ave_loss 0.09786491841077805, attack_acc 0.973\n",
      "time 2.963s\n",
      "epoch 116, ave_loss 0.1832926869392395, attack_acc 0.969\n",
      "time 2.907s\n",
      "epoch 117, ave_loss 0.04216466471552849, attack_acc 0.974\n",
      "time 3.001s\n",
      "epoch 118, ave_loss 0.07791285216808319, attack_acc 0.968\n",
      "time 3.076s\n",
      "epoch 119, ave_loss 0.16273653507232666, attack_acc 0.972\n",
      "time 2.918s\n"
     ]
    },
    {
     "name": "stdout",
     "output_type": "stream",
     "text": [
      "epoch 120, ave_loss 0.15813641250133514, attack_acc 0.974\n",
      "time 2.898s\n",
      "epoch 121, ave_loss 0.15008564293384552, attack_acc 0.971\n",
      "time 2.655s\n",
      "epoch 122, ave_loss 0.09201989322900772, attack_acc 0.971\n",
      "time 2.711s\n",
      "epoch 123, ave_loss 0.06413747370243073, attack_acc 0.971\n",
      "time 2.989s\n",
      "epoch 124, ave_loss 0.0672885850071907, attack_acc 0.975\n",
      "time 2.958s\n",
      "epoch 125, ave_loss 0.06914999336004257, attack_acc 0.978\n",
      "time 2.883s\n",
      "epoch 126, ave_loss 0.0019421500619500875, attack_acc 0.967\n",
      "time 2.637s\n",
      "epoch 127, ave_loss 0.07393953204154968, attack_acc 0.974\n",
      "time 2.929s\n",
      "epoch 128, ave_loss 0.07590432465076447, attack_acc 0.981\n",
      "time 2.980s\n",
      "epoch 129, ave_loss 0.046830952167510986, attack_acc 0.968\n",
      "time 2.973s\n",
      "epoch 130, ave_loss 0.14122797548770905, attack_acc 0.977\n",
      "time 2.934s\n",
      "epoch 131, ave_loss 0.17715239524841309, attack_acc 0.964\n",
      "time 2.977s\n",
      "epoch 132, ave_loss 0.018759267404675484, attack_acc 0.972\n",
      "time 2.935s\n",
      "epoch 133, ave_loss 0.07445502281188965, attack_acc 0.970\n",
      "time 2.967s\n",
      "epoch 134, ave_loss 0.07531259208917618, attack_acc 0.980\n",
      "time 2.799s\n",
      "epoch 135, ave_loss 0.07272503525018692, attack_acc 0.969\n",
      "time 2.675s\n",
      "epoch 136, ave_loss 0.26057714223861694, attack_acc 0.980\n",
      "time 2.866s\n",
      "epoch 137, ave_loss 0.004238613415509462, attack_acc 0.972\n",
      "time 2.975s\n",
      "epoch 138, ave_loss 0.012121072970330715, attack_acc 0.975\n",
      "time 2.774s\n",
      "epoch 139, ave_loss 0.0026467200368642807, attack_acc 0.975\n",
      "time 2.735s\n",
      "epoch 140, ave_loss 0.06611312925815582, attack_acc 0.985\n",
      "time 2.649s\n",
      "epoch 141, ave_loss 0.07124944776296616, attack_acc 0.970\n",
      "time 3.008s\n",
      "epoch 142, ave_loss 0.005055972840636969, attack_acc 0.978\n",
      "time 3.039s\n",
      "epoch 143, ave_loss 0.031959597021341324, attack_acc 0.979\n",
      "time 2.667s\n",
      "epoch 144, ave_loss 0.0066974773071706295, attack_acc 0.983\n",
      "time 2.730s\n",
      "epoch 145, ave_loss 0.15635724365711212, attack_acc 0.983\n",
      "time 2.667s\n",
      "epoch 146, ave_loss 0.012926305644214153, attack_acc 0.981\n",
      "time 2.905s\n",
      "epoch 147, ave_loss 0.02571665681898594, attack_acc 0.983\n",
      "time 2.933s\n",
      "epoch 148, ave_loss 0.11756076663732529, attack_acc 0.978\n",
      "time 2.959s\n",
      "epoch 149, ave_loss 0.04068242758512497, attack_acc 0.979\n",
      "time 2.976s\n",
      "epoch 150, ave_loss 0.057155996561050415, attack_acc 0.975\n",
      "time 2.709s\n",
      "epoch 151, ave_loss 0.013587229885160923, attack_acc 0.984\n",
      "time 2.856s\n",
      "epoch 152, ave_loss 0.0814301148056984, attack_acc 0.974\n",
      "time 2.958s\n",
      "epoch 153, ave_loss 0.026676321402192116, attack_acc 0.981\n",
      "time 3.034s\n",
      "epoch 154, ave_loss 0.07714105397462845, attack_acc 0.988\n",
      "time 2.980s\n",
      "epoch 155, ave_loss 0.16955626010894775, attack_acc 0.976\n",
      "time 2.992s\n",
      "epoch 156, ave_loss 0.09699513018131256, attack_acc 0.972\n",
      "time 2.962s\n",
      "epoch 157, ave_loss 0.08353113383054733, attack_acc 0.984\n",
      "time 3.099s\n",
      "epoch 158, ave_loss 0.033071599900722504, attack_acc 0.975\n",
      "time 3.005s\n",
      "epoch 159, ave_loss 0.04680939391255379, attack_acc 0.977\n",
      "time 2.939s\n",
      "epoch 160, ave_loss 0.0231686532497406, attack_acc 0.974\n",
      "time 3.001s\n",
      "epoch 161, ave_loss 0.002855767263099551, attack_acc 0.978\n",
      "time 2.923s\n",
      "epoch 162, ave_loss 0.08243118971586227, attack_acc 0.985\n",
      "time 2.746s\n",
      "epoch 163, ave_loss 0.14904986321926117, attack_acc 0.981\n",
      "time 2.615s\n",
      "epoch 164, ave_loss 0.07630623131990433, attack_acc 0.972\n",
      "time 2.594s\n",
      "epoch 165, ave_loss 0.041299790143966675, attack_acc 0.992\n",
      "time 2.653s\n",
      "epoch 166, ave_loss 0.0427805595099926, attack_acc 0.984\n",
      "time 2.609s\n",
      "epoch 167, ave_loss 0.019291812554001808, attack_acc 0.977\n",
      "time 2.869s\n",
      "epoch 168, ave_loss 0.060262829065322876, attack_acc 0.983\n",
      "time 2.949s\n",
      "epoch 169, ave_loss 0.023145364597439766, attack_acc 0.975\n",
      "time 2.945s\n",
      "epoch 170, ave_loss 0.0019759200513362885, attack_acc 0.980\n",
      "time 2.979s\n",
      "epoch 171, ave_loss 0.000982036697678268, attack_acc 0.979\n",
      "time 2.940s\n",
      "epoch 172, ave_loss 0.004854290280491114, attack_acc 0.980\n",
      "time 2.961s\n",
      "epoch 173, ave_loss 0.0462583489716053, attack_acc 0.980\n",
      "time 2.933s\n",
      "epoch 174, ave_loss 0.13368111848831177, attack_acc 0.983\n",
      "time 2.942s\n",
      "epoch 175, ave_loss 0.04703622683882713, attack_acc 0.983\n",
      "time 2.945s\n",
      "epoch 176, ave_loss 0.021679025143384933, attack_acc 0.979\n",
      "time 2.966s\n",
      "epoch 177, ave_loss 0.0017337346216663718, attack_acc 0.968\n",
      "time 2.996s\n",
      "epoch 178, ave_loss 0.008639875799417496, attack_acc 0.990\n",
      "time 2.956s\n",
      "epoch 179, ave_loss 0.008920568972826004, attack_acc 0.980\n",
      "time 2.938s\n",
      "epoch 180, ave_loss 0.07078816741704941, attack_acc 0.988\n",
      "time 2.968s\n",
      "epoch 181, ave_loss 0.056841444224119186, attack_acc 0.986\n",
      "time 2.940s\n",
      "epoch 182, ave_loss 0.02242703177034855, attack_acc 0.990\n",
      "time 2.945s\n",
      "epoch 183, ave_loss 0.029363177716732025, attack_acc 0.990\n",
      "time 2.973s\n",
      "epoch 184, ave_loss 0.019365713000297546, attack_acc 0.982\n",
      "time 2.995s\n",
      "epoch 185, ave_loss 0.008873381651937962, attack_acc 0.980\n",
      "time 3.006s\n",
      "epoch 186, ave_loss 0.00628250977024436, attack_acc 0.977\n",
      "time 2.974s\n",
      "epoch 187, ave_loss 0.0028160810470581055, attack_acc 0.986\n",
      "time 2.917s\n",
      "epoch 188, ave_loss 0.009428845718502998, attack_acc 0.985\n",
      "time 2.778s\n",
      "epoch 189, ave_loss 0.019219346344470978, attack_acc 0.980\n",
      "time 2.703s\n",
      "epoch 190, ave_loss 0.021407822147011757, attack_acc 0.983\n",
      "time 2.785s\n",
      "epoch 191, ave_loss 0.0071749379858374596, attack_acc 0.981\n",
      "time 2.682s\n",
      "epoch 192, ave_loss 0.029953574761748314, attack_acc 0.984\n",
      "time 2.862s\n",
      "epoch 193, ave_loss 0.07586122304201126, attack_acc 0.984\n",
      "time 2.734s\n",
      "epoch 194, ave_loss 0.04202960804104805, attack_acc 0.988\n",
      "time 2.657s\n",
      "epoch 195, ave_loss 0.010540751740336418, attack_acc 0.983\n",
      "time 2.611s\n",
      "epoch 196, ave_loss 0.0035165417939424515, attack_acc 0.986\n",
      "time 2.932s\n",
      "epoch 197, ave_loss 0.06757734715938568, attack_acc 0.979\n",
      "time 2.744s\n",
      "epoch 198, ave_loss 0.0007334058755077422, attack_acc 0.993\n",
      "time 2.914s\n",
      "epoch 199, ave_loss 0.029606277123093605, attack_acc 0.982\n",
      "time 2.911s\n",
      "epoch 200, ave_loss 0.03947295621037483, attack_acc 0.985\n",
      "time 2.944s\n",
      "epoch 201, ave_loss 0.029188379645347595, attack_acc 0.973\n",
      "time 3.009s\n",
      "epoch 202, ave_loss 0.061754971742630005, attack_acc 0.977\n",
      "time 3.008s\n",
      "epoch 203, ave_loss 0.0020713673438876867, attack_acc 0.987\n",
      "time 2.949s\n",
      "epoch 204, ave_loss 0.018486257642507553, attack_acc 0.975\n",
      "time 2.963s\n",
      "epoch 205, ave_loss 0.035251449793577194, attack_acc 0.981\n",
      "time 2.910s\n",
      "epoch 206, ave_loss 0.019301481544971466, attack_acc 0.976\n",
      "time 2.941s\n",
      "epoch 207, ave_loss 0.049869466572999954, attack_acc 0.986\n",
      "time 2.926s\n",
      "epoch 208, ave_loss 0.0047517092898488045, attack_acc 0.981\n",
      "time 2.938s\n"
     ]
    }
   ],
   "source": [
    "time_list = []\n",
    "for epoch in range(400):\n",
    "    since = time.time()\n",
    "    decode_model.eval()\n",
    "    encode.train()\n",
    "    \n",
    "    loss_list = []\n",
    "    att_list = []\n",
    "    correct, total = 0, 0\n",
    "    for i, (X, y) in enumerate(frog_loader):\n",
    "        \n",
    "        \n",
    "        X, y = X.to(device), y.to(device)\n",
    "        \n",
    "        res = encode(X)\n",
    "        \n",
    "        res = torch.clamp(res,-l_inf_r,l_inf_r)\n",
    "        #编码后的图片\n",
    "        \n",
    "        finish_img = res+X\n",
    "        \n",
    "        \n",
    "        calmp_finish = torch.clamp(finish_img,0,1)\n",
    "        \n",
    "        trans_finish = transform_after(calmp_finish)\n",
    "        \n",
    "        y = torch.tensor(y, dtype = torch.long)\n",
    "        \n",
    "        y = y.reshape(-1)\n",
    "        \n",
    "        #攻击的标签\n",
    "        y_att = torch.ones_like(y) \n",
    "        \n",
    "        \n",
    "        #预测后的标签, 叫decode\n",
    "        y_hat = decode_model(trans_finish)\n",
    "        \n",
    "        _, predicted = torch.max(y_hat.data, 1)\n",
    "        \n",
    "        total += y_hat.size(0)\n",
    "        \n",
    "        correct += (predicted == y_att).sum().item()\n",
    "        \n",
    "        acc = correct / total\n",
    "        \n",
    "        \n",
    "        #开始反向传播\n",
    "        \n",
    "        optimizer.zero_grad()\n",
    "        \n",
    "        #lpips_loss = torch.mean(lpips_alex.forward(finish_img, X))\n",
    "        \n",
    "        l_true =  criterion(y_hat, y_att)\n",
    "        \n",
    "        loss =   l_true\n",
    "        \n",
    "        loss.backward()\n",
    "        \n",
    "        loss_list.append(float(l_true.data))\n",
    "        att_list.append(float(acc))\n",
    "        \n",
    "        optimizer.step()\n",
    "    scheduler_1.step()\n",
    "    time_elapsed = time.time() - since\n",
    "    ave_loss = np.average(np.array(l_true.item()))\n",
    "    att = np.average(np.array(att_list))\n",
    "    \n",
    "  \n",
    "\n",
    "    #train_acc = d2l.evaluate_accuracy_gpu(my_net, train_tar_loader)\n",
    "    #my_encode_eff = evaluate_accuracy_encode(my_net, train_tar_loader, encode)\n",
    "    time_list.append(time_elapsed)\n",
    "    print(f'epoch {epoch}, ave_loss {ave_loss}, attack_acc {att:.3f}\\n'\n",
    "         f'time {time_list[epoch]:.3f}s')"
   ]
  },
  {
   "cell_type": "code",
   "execution_count": 53,
   "id": "4c3f9c0d",
   "metadata": {},
   "outputs": [],
   "source": [
    "res = encode(X)\n",
    "res = torch.clamp(res,-l_inf_r,l_inf_r)"
   ]
  },
  {
   "cell_type": "code",
   "execution_count": 54,
   "id": "062ab768",
   "metadata": {},
   "outputs": [
    {
     "data": {
      "text/plain": [
       "tensor(-0.0314, device='cuda:0', grad_fn=<MinBackward1>)"
      ]
     },
     "execution_count": 54,
     "metadata": {},
     "output_type": "execute_result"
    }
   ],
   "source": [
    "res.min()"
   ]
  },
  {
   "cell_type": "code",
   "execution_count": 55,
   "id": "274c6887",
   "metadata": {
    "scrolled": true
   },
   "outputs": [
    {
     "data": {
      "image/png": "[encoded data removed]",
      "text/plain": [
       "<Figure size 640x480 with 25 Axes>"
      ]
     },
     "metadata": {},
     "output_type": "display_data"
    }
   ],
   "source": [
    "for i in range(25):\n",
    "    plt.subplot(5,5, i+1)\n",
    "    plt.xticks([])\n",
    "    plt.yticks([])\n",
    "    plt.imshow(res[i].cpu().detach().numpy().transpose(1,2,0)+.5)"
   ]
  },
  {
   "cell_type": "code",
   "execution_count": 56,
   "id": "d7812855",
   "metadata": {},
   "outputs": [
    {
     "data": {
      "text/plain": [
       "tensor(0.0314, device='cuda:0', grad_fn=<MaxBackward1>)"
      ]
     },
     "execution_count": 56,
     "metadata": {},
     "output_type": "execute_result"
    }
   ],
   "source": [
    "res[0].max()"
   ]
  },
  {
   "cell_type": "code",
   "execution_count": 57,
   "id": "6d6e3a5c",
   "metadata": {
    "scrolled": true
   },
   "outputs": [],
   "source": [
    "save_path = './checkpoint_my/encode_pretrain_vgg_l_inf_r_8_frogtoall_test_2_0-1' + str(200) +'.pth'"
   ]
  },
  {
   "cell_type": "code",
   "execution_count": 58,
   "id": "67da2484",
   "metadata": {
    "scrolled": true
   },
   "outputs": [],
   "source": [
    "torch.save(encode.state_dict(),save_path)"
   ]
  },
  {
   "cell_type": "code",
   "execution_count": 59,
   "id": "0633dcaa",
   "metadata": {
    "scrolled": true
   },
   "outputs": [],
   "source": [
    "def evaluate_encode_decode(encode, decode, data_loader):\n",
    "    metric = d2l.Accumulator(2)\n",
    "    for img_true, label in data_loader:\n",
    "        img_true, label = img_true.to(device), label.to(device)\n",
    "        res  = encode(img_true)\n",
    "        \n",
    "        res = torch.clamp(res,-l_inf_r,l_inf_r)\n",
    "        #编码后的图片\n",
    "        \n",
    "        finish_img = res+img_true\n",
    "        calmp_finish = torch.clamp(finish_img,0,1)\n",
    "        \n",
    "        img_att = transform_after(calmp_finish)\n",
    "        \n",
    "        y_hat = decode(img_att)\n",
    "        y_att = torch.zeros_like(label)+1\n",
    "        with torch.no_grad():\n",
    "            metric.add(d2l.accuracy(y_hat, y_att), y_att.numel())\n",
    "    return metric[0] / metric[1]"
   ]
  },
  {
   "cell_type": "code",
   "execution_count": 60,
   "id": "dac63530",
   "metadata": {},
   "outputs": [
    {
     "data": {
      "text/plain": [
       "0.9981818181818182"
      ]
     },
     "execution_count": 60,
     "metadata": {},
     "output_type": "execute_result"
    }
   ],
   "source": [
    "acc = evaluate_encode_decode(encode, decode_model, frog_loader)\n",
    "acc"
   ]
  },
  {
   "cell_type": "code",
   "execution_count": null,
   "id": "f5d71be5",
   "metadata": {},
   "outputs": [],
   "source": []
  },
  {
   "cell_type": "code",
   "execution_count": null,
   "id": "c9e0b55c",
   "metadata": {},
   "outputs": [],
   "source": []
  }
 ],
 "metadata": {
  "kernelspec": {
   "display_name": "python_3.8",
   "language": "python",
   "name": "python_3.8"
  },
  "language_info": {
   "codemirror_mode": {
    "name": "ipython",
    "version": 3
   },
   "file_extension": ".py",
   "mimetype": "text/x-python",
   "name": "python",
   "nbconvert_exporter": "python",
   "pygments_lexer": "ipython3",
   "version": "3.8.16"
  }
 },
 "nbformat": 4,
 "nbformat_minor": 5
}
